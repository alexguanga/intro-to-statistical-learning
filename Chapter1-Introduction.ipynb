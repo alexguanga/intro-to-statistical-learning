{
 "cells": [
  {
   "cell_type": "markdown",
   "metadata": {},
   "source": [
    "# Chapter 1: Introduction\n",
    "\n",
    "** Notation **:\n",
    "- We will use n to represent the number of distinct data points, or observations, in our sample.\n",
    "- We will let p denote the number of variables that are available for use in making predictions.\n",
    "- For example, the Wage data set consists of 12 variables for 3,000 people, so we have n = 3,000 observations and p = 12 variables (such as year, age, wage, and more). Note that throughout this book, we indicate variable names using colored font: Variable Name.\n",
    "- T he samples or observations (from 1 to n) and j will be used to index the variables (from 1 to p).\n",
    "- In general, we will let xij represent the value of the jth variable for the ith observation, where i = 1, 2, . . ., n and j = 1, 2, . . . , p.\n",
    "- (Vectors are by default represented as columns.)\n",
    "- In this text, a vector of length n will always be denoted in lower case bold\n",
    "- However, vectors that are not of length n (such as feature vectors of length p, as in (1.1)) will be denoted in lower case normal font, e.g. a.\n",
    "- Scalars will also be denoted in lower case normal font, e.g. a.\n",
    "- We use yi to denote the ith observation of the variable on which we wish to make predictions, such as wage\n",
    "\n",
    "- This is because Y is also a function of e, which, by definition, cannot be predicted using X. Therefore, variability associated with e also affects the accuracy of our predictions. This is known as the irreducible error, because no matter how well we estimate f, we\n",
    "cannot reduce the error introduced by e"
   ]
  }
 ],
 "metadata": {
  "kernelspec": {
   "display_name": "Python 3",
   "language": "python",
   "name": "python3"
  },
  "language_info": {
   "codemirror_mode": {
    "name": "ipython",
    "version": 3
   },
   "file_extension": ".py",
   "mimetype": "text/x-python",
   "name": "python",
   "nbconvert_exporter": "python",
   "pygments_lexer": "ipython3",
   "version": "3.6.0"
  }
 },
 "nbformat": 4,
 "nbformat_minor": 2
}
